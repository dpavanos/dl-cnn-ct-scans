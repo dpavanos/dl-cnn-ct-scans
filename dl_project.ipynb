{
  "cells": [
    {
      "cell_type": "markdown",
      "metadata": {
        "id": "zPO7g1HIkqgs"
      },
      "source": [
        "# Pneumonia detection"
      ]
    },
    {
      "cell_type": "code",
      "execution_count": null,
      "metadata": {
        "id": "EVj3IHeAkqgw",
        "outputId": "da2421e1-cbc8-45ad-a2be-94fcd5dad763"
      },
      "outputs": [
        {
          "name": "stderr",
          "output_type": "stream",
          "text": [
            "Using TensorFlow backend.\n"
          ]
        }
      ],
      "source": [
        "import os\n",
        "import math\n",
        "import numpy as np\n",
        "import sklearn.model_selection\n",
        "import matplotlib.pyplot as plt\n",
        "import tensorflow as tf\n",
        "import keras\n",
        "import datetime\n",
        "from PIL import Image\n",
        "from random import randint\n",
        "\n",
        "layers = tf.keras.layers\n",
        "ImageDataGenerator = tf.keras.preprocessing.image.ImageDataGenerator\n",
        "BatchNormalization = tf.keras.layers.BatchNormalization\n",
        "Conv2D = tf.keras.layers.Conv2D\n",
        "MaxPooling2D = tf.keras.layers.MaxPooling2D\n",
        "Flatten = tf.keras.layers.Flatten\n",
        "TensorBoard = tf.keras.callbacks.TensorBoard\n",
        "ModelCheckpoint = tf.keras.callbacks.ModelCheckpoint\n",
        "\n",
        "os.environ[\"TF_FORCE_GPU_ALLOW_GROWTH\"] = \"true\""
      ]
    },
    {
      "cell_type": "markdown",
      "metadata": {
        "id": "Is2IWLhAkqgz"
      },
      "source": [
        "## Prepare data for input"
      ]
    },
    {
      "cell_type": "code",
      "execution_count": null,
      "metadata": {
        "id": "8v8HHI8Rkqg0",
        "outputId": "76213e47-d867-461f-f66e-37f4735da783"
      },
      "outputs": [
        {
          "name": "stdout",
          "output_type": "stream",
          "text": [
            "Found 5217 images belonging to 2 classes.\n",
            "Found 624 images belonging to 2 classes.\n"
          ]
        }
      ],
      "source": [
        "# Creating paths for the directories containing the input images\n",
        "directory = \"data\\\\chest_xray\"\n",
        "train_directory = \"data\\\\chest_xray\\\\train\"\n",
        "test_directory = \"data\\\\chest_xray\\\\test\"\n",
        "val_directory = \"data\\\\chest_xray\\\\val\"\n",
        "\n",
        "train_normal_dir = os.path.join(train_directory, \"NORMAL\")\n",
        "train_pneumonia_dir = os.path.join(train_directory, \"PNEUMONIA\")\n",
        "test_normal_dir = os.path.join(test_directory, \"NORMAL\")\n",
        "test_pneumonia_dir = os.path.join(test_directory, \"PNEUMONIA\")\n",
        "val_normal_dir = os.path.join(val_directory, \"NORMAL\")\n",
        "val_pneumonia_dir = os.path.join(val_directory, \"PNEUMONIA\")\n",
        "\n",
        "# Assigning the number of examples to variables\n",
        "number_normal_train = len(os.listdir(train_normal_dir))\n",
        "number_normal_test = len(os.listdir(test_normal_dir))\n",
        "number_normal_val = len(os.listdir(val_normal_dir))\n",
        "number_pneumonia_train = len(os.listdir(train_pneumonia_dir))\n",
        "number_pneumonia_test = len(os.listdir(test_pneumonia_dir))\n",
        "number_pneumonia_val = len(os.listdir(val_pneumonia_dir))\n",
        "\n",
        "total_train = number_normal_train + number_pneumonia_train\n",
        "total_test = number_normal_test + number_pneumonia_test\n",
        "total_val = number_normal_val + number_pneumonia_val\n",
        "\n",
        "# Specifying the size of the batches and the dimensions of the input data\n",
        "batch_size = 128\n",
        "IMG_HEIGHT = 150\n",
        "IMG_WIDTH = 150\n",
        "\n",
        "# Creating generators of input data\n",
        "train_datagen = ImageDataGenerator(zoom_range = 0.2,\n",
        "                                   rotation_range = 10,\n",
        "                                   horizontal_flip = False,\n",
        "                                   rescale = 1.0/255)\n",
        "\n",
        "train_generator = train_datagen.flow_from_directory(train_directory,\n",
        "                                                    batch_size = 5217,\n",
        "                                                    class_mode = \"categorical\",\n",
        "                                                    target_size = (IMG_HEIGHT, IMG_WIDTH))\n",
        "\n",
        "val_datagen = ImageDataGenerator(zoom_range = 0.2,\n",
        "                                 rotation_range = 10,\n",
        "                                 horizontal_flip = False,\n",
        "                                 rescale = 1.0/255)\n",
        " \n",
        "val_generator = val_datagen.flow_from_directory(test_directory,\n",
        "                                                batch_size = 624,\n",
        "                                                class_mode = \"categorical\",\n",
        "                                                target_size = (IMG_HEIGHT, IMG_WIDTH))"
      ]
    },
    {
      "cell_type": "markdown",
      "metadata": {
        "id": "0AqJ4tIPkqg1"
      },
      "source": [
        "## Data exploration"
      ]
    },
    {
      "cell_type": "code",
      "execution_count": null,
      "metadata": {
        "id": "mh6WJHK_kqg2",
        "outputId": "e2f9787d-8e52-41c6-b7e7-2f964130a738"
      },
      "outputs": [
        {
          "data": {
            "text/plain": [
              "{'NORMAL': 0, 'PNEUMONIA': 1}"
            ]
          },
          "execution_count": 3,
          "metadata": {},
          "output_type": "execute_result"
        }
      ],
      "source": [
        "# See how the classes are encoded\n",
        "train_generator.class_indices"
      ]
    },
    {
      "cell_type": "code",
      "execution_count": null,
      "metadata": {
        "id": "u7qKIAHmkqg2",
        "outputId": "85170710-3a58-4f6b-e978-46da45709aad"
      },
      "outputs": [
        {
          "name": "stdout",
          "output_type": "stream",
          "text": [
            "Length x_train: 5217\n",
            "Length y_train: 5217\n"
          ]
        }
      ],
      "source": [
        "# Assigning examples coming from the generator to variables that will serve as input\n",
        "x_train, y_train = next(train_generator)\n",
        "x_test, y_test = next(val_generator)\n",
        "\n",
        "# Verify whether x_train and y_train have the same length by printing the length\n",
        "print(\"Length x_train:\", len(x_train))\n",
        "print(\"Length y_train:\", len(y_train))"
      ]
    },
    {
      "cell_type": "code",
      "execution_count": null,
      "metadata": {
        "id": "VxNPxVHukqg3"
      },
      "outputs": [],
      "source": [
        "def find_label(encoding):\n",
        "    \"\"\"Returns the correct class to which an instance belongs (i.e. \"Normal\" or\n",
        "    \"Pneumonia\") based on the Numpy-array encoding which has been assigned to it.\"\"\"\n",
        "    if encoding[0] == 1:\n",
        "        return \"Normal\"\n",
        "    if encoding[1] == 1:\n",
        "        return \"Pneumonia\""
      ]
    },
    {
      "cell_type": "code",
      "execution_count": null,
      "metadata": {
        "id": "_iXPQ6uEkqg4",
        "outputId": "d60720c6-8077-4b6f-e6fa-4ade13d182a1"
      },
      "outputs": [],
      "source": [
        "# Plot several instances to visualise the data that we are dealing with\n",
        "plt.figure(figsize = (14, 14))\n",
        "for index in range(0, 16):\n",
        "    ax = plt.subplot(4, 4, index + 1)\n",
        "    ax.set_title(find_label(y_train[index]))\n",
        "    plt.imshow(x_train[index])"
      ]
    },
    {
      "cell_type": "code",
      "execution_count": null,
      "metadata": {
        "id": "yZ9Zu-fdkqg4",
        "outputId": "0bfd61fd-2ab4-4cd2-b6de-a6ebafbe4722"
      },
      "outputs": [
        {
          "name": "stdout",
          "output_type": "stream",
          "text": [
            "Normal cases in the train dataset: 1343\n",
            "Normal cases in the test dataset: 234\n",
            "Normal cases in the validation dataset: 9\n",
            "Pneumonia cases in the train dataset: 3876\n",
            "Pneumonia cases in the test dataset: 390\n",
            "Pneumonia cases in the validation dataset: 9\n"
          ]
        }
      ],
      "source": [
        "# Printing how many of normal/pneumonia instances are among the different datasets\n",
        "print(\"Normal cases in the train dataset:\", number_normal_train)\n",
        "print(\"Normal cases in the test dataset:\", number_normal_test)\n",
        "print(\"Normal cases in the validation dataset:\", number_normal_val)\n",
        "print(\"Pneumonia cases in the train dataset:\", number_pneumonia_train)\n",
        "print(\"Pneumonia cases in the test dataset:\", number_pneumonia_test)\n",
        "print(\"Pneumonia cases in the validation dataset:\", number_pneumonia_val)"
      ]
    },
    {
      "cell_type": "markdown",
      "metadata": {
        "id": "qIQd_5-Kkqg5"
      },
      "source": [
        "## Modelling"
      ]
    },
    {
      "cell_type": "code",
      "execution_count": null,
      "metadata": {
        "id": "e4qzhhdmkqg5"
      },
      "outputs": [],
      "source": [
        "def create_model():\n",
        "    # Instantiating a Sequential model from Keras\n",
        "    classifier = tf.keras.models.Sequential()\n",
        "\n",
        "    # Adding layers to the \"Classifier\" model\n",
        "    classifier.add(tf.keras.layers.Conv2D(64, (3, 3), input_shape = (150, 150, 3), activation = \"relu\"))\n",
        "    classifier.add(tf.keras.layers.Conv2D(64, (3, 3), activation = \"relu\"))\n",
        "    classifier.add(tf.keras.layers.MaxPooling2D(pool_size = (2, 2)))\n",
        "    classifier.add(tf.keras.layers.Conv2D(32, (3, 3), activation = \"relu\"))\n",
        "    classifier.add(tf.keras.layers.Conv2D(32, (3, 3), activation = \"relu\"))\n",
        "    classifier.add(tf.keras.layers.MaxPooling2D(pool_size = (2, 2)))\n",
        "    classifier.add(tf.keras.layers.Conv2D(16, (5, 5), activation = \"relu\"))\n",
        "    classifier.add(tf.keras.layers.Conv2D(16, (5, 5), activation = \"relu\"))\n",
        "    classifier.add(tf.keras.layers.MaxPooling2D(pool_size = (2, 2)))\n",
        "    classifier.add(tf.keras.layers.Flatten())\n",
        "    classifier.add(tf.keras.layers.Dropout(0.3))\n",
        "    classifier.add(tf.keras.layers.Dense(units = 1024, activation = \"relu\"))\n",
        "    classifier.add(tf.keras.layers.Dense(units = 2, activation = \"softmax\"))\n",
        "\n",
        "    # Selecting an appropriate optimizer (result from grid search conducted during experimentation)\n",
        "    rmsprop = tf.keras.optimizers.RMSprop(lr = 0.0001, rho = 0.9)\n",
        "\n",
        "    # Compile the model by passing the loss function, optimizer and metrics\n",
        "    classifier.compile(optimizer = rmsprop,\n",
        "                       loss = \"binary_crossentropy\",\n",
        "                       metrics = [\"accuracy\"])\n",
        "    \n",
        "    return classifier"
      ]
    },
    {
      "cell_type": "code",
      "execution_count": null,
      "metadata": {
        "id": "g_v7Ouxwkqg6",
        "outputId": "5385a7c3-bdf2-4435-d27d-361d47743308"
      },
      "outputs": [
        {
          "name": "stdout",
          "output_type": "stream",
          "text": [
            "Model: \"sequential\"\n",
            "_________________________________________________________________\n",
            "Layer (type)                 Output Shape              Param #   \n",
            "=================================================================\n",
            "conv2d (Conv2D)              (None, 148, 148, 64)      1792      \n",
            "_________________________________________________________________\n",
            "conv2d_1 (Conv2D)            (None, 146, 146, 64)      36928     \n",
            "_________________________________________________________________\n",
            "max_pooling2d (MaxPooling2D) (None, 73, 73, 64)        0         \n",
            "_________________________________________________________________\n",
            "conv2d_2 (Conv2D)            (None, 71, 71, 32)        18464     \n",
            "_________________________________________________________________\n",
            "conv2d_3 (Conv2D)            (None, 69, 69, 32)        9248      \n",
            "_________________________________________________________________\n",
            "max_pooling2d_1 (MaxPooling2 (None, 34, 34, 32)        0         \n",
            "_________________________________________________________________\n",
            "conv2d_4 (Conv2D)            (None, 30, 30, 16)        12816     \n",
            "_________________________________________________________________\n",
            "conv2d_5 (Conv2D)            (None, 26, 26, 16)        6416      \n",
            "_________________________________________________________________\n",
            "max_pooling2d_2 (MaxPooling2 (None, 13, 13, 16)        0         \n",
            "_________________________________________________________________\n",
            "flatten (Flatten)            (None, 2704)              0         \n",
            "_________________________________________________________________\n",
            "dropout (Dropout)            (None, 2704)              0         \n",
            "_________________________________________________________________\n",
            "dense (Dense)                (None, 1024)              2769920   \n",
            "_________________________________________________________________\n",
            "dense_1 (Dense)              (None, 2)                 2050      \n",
            "=================================================================\n",
            "Total params: 2,857,634\n",
            "Trainable params: 2,857,634\n",
            "Non-trainable params: 0\n",
            "_________________________________________________________________\n"
          ]
        }
      ],
      "source": [
        "classifier = create_model()\n",
        "\n",
        "# Summarise the different layers and number of parameters in the model\n",
        "classifier.summary()"
      ]
    },
    {
      "cell_type": "markdown",
      "metadata": {
        "id": "UVD6fWKAkqg6"
      },
      "source": [
        "## Training the model"
      ]
    },
    {
      "cell_type": "code",
      "execution_count": null,
      "metadata": {
        "id": "k3Qp9M0Xkqg6",
        "outputId": "da99a3c4-968c-48d0-e746-cc1c434e1e87"
      },
      "outputs": [
        {
          "name": "stdout",
          "output_type": "stream",
          "text": [
            "Train on 5217 samples, validate on 624 samples\n",
            "Epoch 1/50\n",
            "5216/5217 [============================>.] - ETA: 0s - loss: 0.4606 - accuracy: 0.7872\n",
            "Epoch 00001: val_accuracy improved from -inf to 0.80128, saving model to JADS_DL_Project_BestModelWeights.hdf5\n",
            "5217/5217 [==============================] - 37s 7ms/sample - loss: 0.4605 - accuracy: 0.7872 - val_loss: 0.4284 - val_accuracy: 0.8013\n",
            "Epoch 2/50\n",
            "5216/5217 [============================>.] - ETA: 0s - loss: 0.3170 - accuracy: 0.8622\n",
            "Epoch 00002: val_accuracy did not improve from 0.80128\n",
            "5217/5217 [==============================] - 32s 6ms/sample - loss: 0.3171 - accuracy: 0.8620 - val_loss: 0.4835 - val_accuracy: 0.7788\n",
            "Epoch 3/50\n",
            "5216/5217 [============================>.] - ETA: 0s - loss: 0.2801 - accuracy: 0.8808\n",
            "Epoch 00003: val_accuracy did not improve from 0.80128\n",
            "5217/5217 [==============================] - 32s 6ms/sample - loss: 0.2800 - accuracy: 0.8808 - val_loss: 0.5216 - val_accuracy: 0.8013\n",
            "Epoch 4/50\n",
            "5216/5217 [============================>.] - ETA: 0s - loss: 0.2558 - accuracy: 0.8907\n",
            "Epoch 00004: val_accuracy improved from 0.80128 to 0.82051, saving model to JADS_DL_Project_BestModelWeights.hdf5\n",
            "5217/5217 [==============================] - 32s 6ms/sample - loss: 0.2557 - accuracy: 0.8907 - val_loss: 0.4469 - val_accuracy: 0.8205\n",
            "Epoch 5/50\n",
            "5216/5217 [============================>.] - ETA: 0s - loss: 0.2354 - accuracy: 0.8995\n",
            "Epoch 00005: val_accuracy did not improve from 0.82051\n",
            "5217/5217 [==============================] - 32s 6ms/sample - loss: 0.2357 - accuracy: 0.8994 - val_loss: 0.5632 - val_accuracy: 0.7788\n",
            "Epoch 6/50\n",
            "5216/5217 [============================>.] - ETA: 0s - loss: 0.2214 - accuracy: 0.9095 ETA\n",
            "Epoch 00006: val_accuracy improved from 0.82051 to 0.85577, saving model to JADS_DL_Project_BestModelWeights.hdf5\n",
            "5217/5217 [==============================] - 32s 6ms/sample - loss: 0.2214 - accuracy: 0.9095 - val_loss: 0.3696 - val_accuracy: 0.8558\n",
            "Epoch 7/50\n",
            "5216/5217 [============================>.] - ETA: 0s - loss: 0.1985 - accuracy: 0.9164\n",
            "Epoch 00007: val_accuracy did not improve from 0.85577\n",
            "5217/5217 [==============================] - 32s 6ms/sample - loss: 0.1985 - accuracy: 0.9164 - val_loss: 0.6113 - val_accuracy: 0.7804\n",
            "Epoch 8/50\n",
            "5216/5217 [============================>.] - ETA: 0s - loss: 0.1877 - accuracy: 0.9256\n",
            "Epoch 00008: val_accuracy improved from 0.85577 to 0.86058, saving model to JADS_DL_Project_BestModelWeights.hdf5\n",
            "5217/5217 [==============================] - 32s 6ms/sample - loss: 0.1877 - accuracy: 0.9256 - val_loss: 0.3335 - val_accuracy: 0.8606\n",
            "Epoch 9/50\n",
            "5216/5217 [============================>.] - ETA: 0s - loss: 0.1699 - accuracy: 0.9321\n",
            "Epoch 00009: val_accuracy did not improve from 0.86058\n",
            "5217/5217 [==============================] - 32s 6ms/sample - loss: 0.1700 - accuracy: 0.9321 - val_loss: 0.5653 - val_accuracy: 0.7997\n",
            "Epoch 10/50\n",
            "5216/5217 [============================>.] - ETA: 0s - loss: 0.1609 - accuracy: 0.9392\n",
            "Epoch 00010: val_accuracy improved from 0.86058 to 0.88782, saving model to JADS_DL_Project_BestModelWeights.hdf5\n",
            "5217/5217 [==============================] - 32s 6ms/sample - loss: 0.1609 - accuracy: 0.9392 - val_loss: 0.3492 - val_accuracy: 0.8878\n",
            "Epoch 11/50\n",
            "5216/5217 [============================>.] - ETA: 0s - loss: 0.1537 - accuracy: 0.9385\n",
            "Epoch 00011: val_accuracy improved from 0.88782 to 0.88942, saving model to JADS_DL_Project_BestModelWeights.hdf5\n",
            "5217/5217 [==============================] - 32s 6ms/sample - loss: 0.1537 - accuracy: 0.9385 - val_loss: 0.3234 - val_accuracy: 0.8894\n",
            "Epoch 12/50\n",
            "5216/5217 [============================>.] - ETA: 0s - loss: 0.1458 - accuracy: 0.9431\n",
            "Epoch 00012: val_accuracy did not improve from 0.88942\n",
            "5217/5217 [==============================] - 32s 6ms/sample - loss: 0.1458 - accuracy: 0.9431 - val_loss: 0.5089 - val_accuracy: 0.8494\n",
            "Epoch 13/50\n",
            "5216/5217 [============================>.] - ETA: 0s - loss: 0.1397 - accuracy: 0.9446\n",
            "Epoch 00013: val_accuracy did not improve from 0.88942\n",
            "5217/5217 [==============================] - 32s 6ms/sample - loss: 0.1397 - accuracy: 0.9446 - val_loss: 0.3485 - val_accuracy: 0.8798\n",
            "Epoch 14/50\n",
            "5216/5217 [============================>.] - ETA: 0s - loss: 0.1345 - accuracy: 0.9486\n",
            "Epoch 00014: val_accuracy did not improve from 0.88942\n",
            "5217/5217 [==============================] - 32s 6ms/sample - loss: 0.1345 - accuracy: 0.9486 - val_loss: 0.3703 - val_accuracy: 0.8718\n",
            "Epoch 15/50\n",
            "5216/5217 [============================>.] - ETA: 0s - loss: 0.1233 - accuracy: 0.9480\n",
            "Epoch 00015: val_accuracy did not improve from 0.88942\n",
            "5217/5217 [==============================] - 32s 6ms/sample - loss: 0.1233 - accuracy: 0.9481 - val_loss: 0.5959 - val_accuracy: 0.8253\n",
            "Epoch 16/50\n",
            "5216/5217 [============================>.] - ETA: 0s - loss: 0.1166 - accuracy: 0.9548\n",
            "Epoch 00016: val_accuracy did not improve from 0.88942\n",
            "5217/5217 [==============================] - 32s 6ms/sample - loss: 0.1166 - accuracy: 0.9548 - val_loss: 0.3339 - val_accuracy: 0.8846\n",
            "Epoch 17/50\n",
            "5216/5217 [============================>.] - ETA: 0s - loss: 0.1188 - accuracy: 0.9557\n",
            "Epoch 00017: val_accuracy did not improve from 0.88942\n",
            "5217/5217 [==============================] - 32s 6ms/sample - loss: 0.1187 - accuracy: 0.9557 - val_loss: 0.3934 - val_accuracy: 0.8734\n",
            "Epoch 18/50\n",
            "5216/5217 [============================>.] - ETA: 0s - loss: 0.1106 - accuracy: 0.9588\n",
            "Epoch 00018: val_accuracy improved from 0.88942 to 0.91026, saving model to JADS_DL_Project_BestModelWeights.hdf5\n",
            "5217/5217 [==============================] - 32s 6ms/sample - loss: 0.1106 - accuracy: 0.9588 - val_loss: 0.2674 - val_accuracy: 0.9103\n",
            "Epoch 19/50\n",
            "5216/5217 [============================>.] - ETA: 0s - loss: 0.1104 - accuracy: 0.9561\n",
            "Epoch 00019: val_accuracy did not improve from 0.91026\n",
            "5217/5217 [==============================] - 32s 6ms/sample - loss: 0.1104 - accuracy: 0.9561 - val_loss: 0.3299 - val_accuracy: 0.8990\n",
            "Epoch 20/50\n",
            "5216/5217 [============================>.] - ETA: 0s - loss: 0.1000 - accuracy: 0.9632\n",
            "Epoch 00020: val_accuracy improved from 0.91026 to 0.91506, saving model to JADS_DL_Project_BestModelWeights.hdf5\n",
            "5217/5217 [==============================] - 32s 6ms/sample - loss: 0.1000 - accuracy: 0.9632 - val_loss: 0.2608 - val_accuracy: 0.9151\n",
            "Epoch 21/50\n",
            "5216/5217 [============================>.] - ETA: 0s - loss: 0.1012 - accuracy: 0.9620\n",
            "Epoch 00021: val_accuracy did not improve from 0.91506\n",
            "5217/5217 [==============================] - 32s 6ms/sample - loss: 0.1011 - accuracy: 0.9620 - val_loss: 0.3554 - val_accuracy: 0.9022\n",
            "Epoch 22/50\n",
            "5216/5217 [============================>.] - ETA: 0s - loss: 0.0964 - accuracy: 0.9611\n",
            "Epoch 00022: val_accuracy did not improve from 0.91506\n",
            "5217/5217 [==============================] - 32s 6ms/sample - loss: 0.0964 - accuracy: 0.9611 - val_loss: 0.2791 - val_accuracy: 0.9135\n",
            "Epoch 23/50\n",
            "5216/5217 [============================>.] - ETA: 0s - loss: 0.0892 - accuracy: 0.9651\n",
            "Epoch 00023: val_accuracy did not improve from 0.91506\n",
            "5217/5217 [==============================] - 32s 6ms/sample - loss: 0.0891 - accuracy: 0.9651 - val_loss: 0.6611 - val_accuracy: 0.8429\n",
            "Epoch 24/50\n",
            "5216/5217 [============================>.] - ETA: 0s - loss: 0.0897 - accuracy: 0.9661\n",
            "Epoch 00024: val_accuracy did not improve from 0.91506\n",
            "5217/5217 [==============================] - 32s 6ms/sample - loss: 0.0897 - accuracy: 0.9661 - val_loss: 0.3065 - val_accuracy: 0.9103\n",
            "Epoch 25/50\n",
            "5216/5217 [============================>.] - ETA: 0s - loss: 0.0883 - accuracy: 0.9674\n",
            "Epoch 00025: val_accuracy did not improve from 0.91506\n",
            "5217/5217 [==============================] - 32s 6ms/sample - loss: 0.0883 - accuracy: 0.9674 - val_loss: 0.3503 - val_accuracy: 0.9054\n",
            "Epoch 26/50\n",
            "5216/5217 [============================>.] - ETA: 0s - loss: 0.0788 - accuracy: 0.9695\n",
            "Epoch 00026: val_accuracy did not improve from 0.91506\n",
            "5217/5217 [==============================] - 32s 6ms/sample - loss: 0.0788 - accuracy: 0.9695 - val_loss: 0.3811 - val_accuracy: 0.8942\n",
            "Epoch 27/50\n",
            "5216/5217 [============================>.] - ETA: 0s - loss: 0.0786 - accuracy: 0.9699\n",
            "Epoch 00027: val_accuracy did not improve from 0.91506\n",
            "5217/5217 [==============================] - 32s 6ms/sample - loss: 0.0786 - accuracy: 0.9699 - val_loss: 0.7157 - val_accuracy: 0.8253\n",
            "Epoch 28/50\n",
            "5216/5217 [============================>.] - ETA: 0s - loss: 0.0774 - accuracy: 0.9678\n",
            "Epoch 00028: val_accuracy did not improve from 0.91506\n",
            "5217/5217 [==============================] - 32s 6ms/sample - loss: 0.0774 - accuracy: 0.9678 - val_loss: 0.4281 - val_accuracy: 0.8910\n",
            "Epoch 29/50\n",
            "5216/5217 [============================>.] - ETA: 0s - loss: 0.0717 - accuracy: 0.9734\n",
            "Epoch 00029: val_accuracy did not improve from 0.91506\n",
            "5217/5217 [==============================] - 32s 6ms/sample - loss: 0.0717 - accuracy: 0.9734 - val_loss: 0.6999 - val_accuracy: 0.8478\n",
            "Epoch 30/50\n",
            "5216/5217 [============================>.] - ETA: 0s - loss: 0.0724 - accuracy: 0.9709\n",
            "Epoch 00030: val_accuracy did not improve from 0.91506\n",
            "5217/5217 [==============================] - 32s 6ms/sample - loss: 0.0724 - accuracy: 0.9709 - val_loss: 0.6358 - val_accuracy: 0.8574\n",
            "Epoch 31/50\n",
            "5216/5217 [============================>.] - ETA: 0s - loss: 0.0687 - accuracy: 0.9737\n",
            "Epoch 00031: val_accuracy did not improve from 0.91506\n",
            "5217/5217 [==============================] - 32s 6ms/sample - loss: 0.0687 - accuracy: 0.9737 - val_loss: 0.2956 - val_accuracy: 0.9038\n",
            "Epoch 32/50\n",
            "5216/5217 [============================>.] - ETA: 0s - loss: 0.0619 - accuracy: 0.9734\n",
            "Epoch 00032: val_accuracy improved from 0.91506 to 0.91827, saving model to JADS_DL_Project_BestModelWeights.hdf5\n",
            "5217/5217 [==============================] - 32s 6ms/sample - loss: 0.0619 - accuracy: 0.9734 - val_loss: 0.3523 - val_accuracy: 0.9183\n",
            "Epoch 33/50\n",
            "5216/5217 [============================>.] - ETA: 0s - loss: 0.0624 - accuracy: 0.9768\n",
            "Epoch 00033: val_accuracy did not improve from 0.91827\n",
            "5217/5217 [==============================] - 32s 6ms/sample - loss: 0.0624 - accuracy: 0.9768 - val_loss: 0.4047 - val_accuracy: 0.8942\n",
            "Epoch 34/50\n",
            "5216/5217 [============================>.] - ETA: 0s - loss: 0.0615 - accuracy: 0.9745\n",
            "Epoch 00034: val_accuracy did not improve from 0.91827\n",
            "5217/5217 [==============================] - 32s 6ms/sample - loss: 0.0615 - accuracy: 0.9745 - val_loss: 0.4381 - val_accuracy: 0.8862\n",
            "Epoch 35/50\n",
            "5216/5217 [============================>.] - ETA: 0s - loss: 0.0567 - accuracy: 0.9797\n",
            "Epoch 00035: val_accuracy did not improve from 0.91827\n",
            "5217/5217 [==============================] - 32s 6ms/sample - loss: 0.0566 - accuracy: 0.9797 - val_loss: 0.6287 - val_accuracy: 0.8622\n",
            "Epoch 36/50\n",
            "5216/5217 [============================>.] - ETA: 0s - loss: 0.0574 - accuracy: 0.9778\n",
            "Epoch 00036: val_accuracy did not improve from 0.91827\n",
            "5217/5217 [==============================] - 32s 6ms/sample - loss: 0.0574 - accuracy: 0.9778 - val_loss: 0.4188 - val_accuracy: 0.8894\n",
            "Epoch 37/50\n",
            "5216/5217 [============================>.] - ETA: 0s - loss: 0.0524 - accuracy: 0.9808\n",
            "Epoch 00037: val_accuracy did not improve from 0.91827\n",
            "5217/5217 [==============================] - 32s 6ms/sample - loss: 0.0525 - accuracy: 0.9808 - val_loss: 0.7623 - val_accuracy: 0.8173\n",
            "Epoch 38/50\n",
            "5216/5217 [============================>.] - ETA: 0s - loss: 0.0458 - accuracy: 0.9818\n",
            "Epoch 00038: val_accuracy did not improve from 0.91827\n",
            "5217/5217 [==============================] - 32s 6ms/sample - loss: 0.0457 - accuracy: 0.9818 - val_loss: 0.6705 - val_accuracy: 0.8718\n",
            "Epoch 39/50\n",
            "5216/5217 [============================>.] - ETA: 0s - loss: 0.0476 - accuracy: 0.9829\n",
            "Epoch 00039: val_accuracy did not improve from 0.91827\n",
            "5217/5217 [==============================] - 32s 6ms/sample - loss: 0.0476 - accuracy: 0.9829 - val_loss: 0.4899 - val_accuracy: 0.9054\n",
            "Epoch 40/50\n",
            "5216/5217 [============================>.] - ETA: 0s - loss: 0.0458 - accuracy: 0.9843\n",
            "Epoch 00040: val_accuracy did not improve from 0.91827\n",
            "5217/5217 [==============================] - 32s 6ms/sample - loss: 0.0458 - accuracy: 0.9843 - val_loss: 0.6048 - val_accuracy: 0.8958\n",
            "Epoch 41/50\n",
            "5216/5217 [============================>.] - ETA: 0s - loss: 0.0452 - accuracy: 0.9845\n",
            "Epoch 00041: val_accuracy did not improve from 0.91827\n",
            "5217/5217 [==============================] - 32s 6ms/sample - loss: 0.0452 - accuracy: 0.9845 - val_loss: 0.5197 - val_accuracy: 0.8990\n",
            "Epoch 42/50\n",
            "5216/5217 [============================>.] - ETA: 0s - loss: 0.0388 - accuracy: 0.9850\n",
            "Epoch 00042: val_accuracy did not improve from 0.91827\n",
            "5217/5217 [==============================] - 32s 6ms/sample - loss: 0.0388 - accuracy: 0.9850 - val_loss: 0.6954 - val_accuracy: 0.8638\n",
            "Epoch 43/50\n",
            "5216/5217 [============================>.] - ETA: 0s - loss: 0.0403 - accuracy: 0.9856\n",
            "Epoch 00043: val_accuracy did not improve from 0.91827\n",
            "5217/5217 [==============================] - 32s 6ms/sample - loss: 0.0403 - accuracy: 0.9856 - val_loss: 0.4812 - val_accuracy: 0.9135\n",
            "Epoch 44/50\n",
            "5216/5217 [============================>.] - ETA: 0s - loss: 0.0415 - accuracy: 0.9845\n",
            "Epoch 00044: val_accuracy did not improve from 0.91827\n",
            "5217/5217 [==============================] - 32s 6ms/sample - loss: 0.0415 - accuracy: 0.9845 - val_loss: 0.5554 - val_accuracy: 0.8926\n",
            "Epoch 45/50\n",
            "5216/5217 [============================>.] - ETA: 0s - loss: 0.0346 - accuracy: 0.9860\n",
            "Epoch 00045: val_accuracy did not improve from 0.91827\n",
            "5217/5217 [==============================] - 32s 6ms/sample - loss: 0.0346 - accuracy: 0.9860 - val_loss: 0.4947 - val_accuracy: 0.9135\n",
            "Epoch 46/50\n",
            "5216/5217 [============================>.] - ETA: 0s - loss: 0.0387 - accuracy: 0.9862\n",
            "Epoch 00046: val_accuracy improved from 0.91827 to 0.92628, saving model to JADS_DL_Project_BestModelWeights.hdf5\n",
            "5217/5217 [==============================] - 32s 6ms/sample - loss: 0.0387 - accuracy: 0.9862 - val_loss: 0.3791 - val_accuracy: 0.9263\n",
            "Epoch 47/50\n",
            "5216/5217 [============================>.] - ETA: 0s - loss: 0.0348 - accuracy: 0.9889\n",
            "Epoch 00047: val_accuracy did not improve from 0.92628\n",
            "5217/5217 [==============================] - 32s 6ms/sample - loss: 0.0348 - accuracy: 0.9889 - val_loss: 0.5185 - val_accuracy: 0.9071\n",
            "Epoch 48/50\n",
            "5216/5217 [============================>.] - ETA: 0s - loss: 0.0293 - accuracy: 0.9904\n",
            "Epoch 00048: val_accuracy did not improve from 0.92628\n",
            "5217/5217 [==============================] - 32s 6ms/sample - loss: 0.0293 - accuracy: 0.9904 - val_loss: 0.6917 - val_accuracy: 0.8862\n",
            "Epoch 49/50\n",
            "5216/5217 [============================>.] - ETA: 0s - loss: 0.0287 - accuracy: 0.9889\n",
            "Epoch 00049: val_accuracy did not improve from 0.92628\n",
            "5217/5217 [==============================] - 32s 6ms/sample - loss: 0.0287 - accuracy: 0.9889 - val_loss: 0.5742 - val_accuracy: 0.8878\n",
            "Epoch 50/50\n",
            "5216/5217 [============================>.] - ETA: 0s - loss: 0.0288 - accuracy: 0.9891 ETA: 3s\n",
            "Epoch 00050: val_accuracy did not improve from 0.92628\n",
            "5217/5217 [==============================] - 32s 6ms/sample - loss: 0.0288 - accuracy: 0.9891 - val_loss: 0.6706 - val_accuracy: 0.8862\n"
          ]
        }
      ],
      "source": [
        "# Provide path to which the best epoch will be saved during training\n",
        "checkpoint_path = \"DL_Project_BestModelWeights.hdf5\"\n",
        "\n",
        "# Creating a checkpoint for saving the best epoch\n",
        "checkpoint = ModelCheckpoint(checkpoint_path, monitor = \"val_accuracy\", verbose = 1,\n",
        "                             save_best_only = True, mode = \"auto\")\n",
        "\n",
        "# Fitting the model and train the model by providing train and test data\n",
        "history = classifier.fit(x = x_train,\n",
        "                         y = y_train,\n",
        "                         validation_data = (x_test, y_test),\n",
        "                         epochs = 50,\n",
        "                         verbose = 1,\n",
        "                         callbacks = [checkpoint])"
      ]
    },
    {
      "cell_type": "markdown",
      "metadata": {
        "id": "Ie2OHFQzkqg7"
      },
      "source": [
        "## Evaluation"
      ]
    },
    {
      "cell_type": "code",
      "execution_count": null,
      "metadata": {
        "id": "v2CdpwwRkqg8",
        "outputId": "54a59818-d492-49b6-93eb-4d8af5fe10b8"
      },
      "outputs": [
        {
          "data": {
            "text/plain": [
              "Text(0.5, 1.0, 'Training and validation loss')"
            ]
          },
          "execution_count": 11,
          "metadata": {},
          "output_type": "execute_result"
        },
        {
          "data": {
            "image/png": "[encoded data removed]",
            "text/plain": [
              "<Figure size 1152x432 with 2 Axes>"
            ]
          },
          "metadata": {
            "needs_background": "light"
          },
          "output_type": "display_data"
        }
      ],
      "source": [
        "acc = history.history[\"accuracy\"]\n",
        "val_acc = history.history[\"val_accuracy\"]\n",
        "\n",
        "loss = history.history[\"loss\"]\n",
        "val_loss = history.history[\"val_loss\"]\n",
        "\n",
        "epochs_range = range(len(history.history[\"loss\"]))\n",
        "\n",
        "plt.figure(figsize = (16, 6))\n",
        "plt.subplot(1, 2, 1)\n",
        "plt.plot(epochs_range, acc, label = \"Training Accuracy\")\n",
        "plt.plot(epochs_range, val_acc, label = \"Validation Accuracy\")\n",
        "plt.legend(loc = \"lower right\")\n",
        "plt.title(\"Training and validation accuracy\")\n",
        "\n",
        "plt.subplot(1, 2, 2)\n",
        "plt.plot(epochs_range, loss, label = \"Training Loss\")\n",
        "plt.plot(epochs_range, val_loss, label = \"Validation Loss\")\n",
        "plt.legend(loc = \"upper right\")\n",
        "plt.title(\"Training and validation loss\")"
      ]
    },
    {
      "cell_type": "code",
      "execution_count": null,
      "metadata": {
        "id": "q9HMlRs-kqg8",
        "outputId": "98b13571-06c5-4d46-960f-454125d615ab"
      },
      "outputs": [
        {
          "data": {
            "text/plain": [
              "[0.37905680445524365, 0.92628205]"
            ]
          },
          "execution_count": 12,
          "metadata": {},
          "output_type": "execute_result"
        }
      ],
      "source": [
        "# Restore the weights from the best epoch to use for further evaluation\n",
        "model = create_model()\n",
        "model.load_weights(checkpoint_path)\n",
        "model.evaluate(x_test, y_test, verbose = 0)"
      ]
    },
    {
      "cell_type": "code",
      "execution_count": null,
      "metadata": {
        "id": "dFY1X84ikqhC"
      },
      "outputs": [],
      "source": [
        "def convert_encoding(encoding):\n",
        "    \"\"\"Converts the one-hot encoding used when training to an integer value, where\n",
        "    0 represents a Normal case and 1 represents a Pneumonia case.\"\"\"\n",
        "    if encoding[0] >= encoding[1]:\n",
        "        return 0\n",
        "    if encoding[0] < encoding[1]:\n",
        "        return 1\n",
        "\n",
        "# Make predictions for the test set using the best model that has been retrieved\n",
        "true_values = y_test\n",
        "predicted_values = model.predict(x_test)\n",
        "\n",
        "# Create an array containing the true labels converted to integers instead of one-hots\n",
        "true_labels = []\n",
        "for element in true_values:\n",
        "    true_labels.append(convert_encoding(element))\n",
        "\n",
        "# Create an array containing the predicted labels converted to integers instead of one-hots\n",
        "predicted_labels = []\n",
        "for element in predicted_values:\n",
        "    predicted_labels.append(convert_encoding(element))"
      ]
    },
    {
      "cell_type": "code",
      "execution_count": null,
      "metadata": {
        "id": "KN6XL0smkqhC",
        "outputId": "3a1c4746-f348-462a-b86e-ef4110c2313f"
      },
      "outputs": [
        {
          "data": {
            "text/plain": [
              "<tf.Tensor: id=31428, shape=(2, 2), dtype=int32, numpy=\n",
              "array([[198,  36],\n",
              "       [ 10, 380]])>"
            ]
          },
          "execution_count": 14,
          "metadata": {},
          "output_type": "execute_result"
        }
      ],
      "source": [
        "# Create a confusion matrix by feeding the true and predicted labels\n",
        "tf.math.confusion_matrix(true_labels, predicted_labels, num_classes = 2, dtype = tf.dtypes.int32, name = None)"
      ]
    }
  ],
  "metadata": {
    "colab": {
      "name": "JADS_DL_Project_Version11.ipynb",
      "provenance": []
    },
    "kernelspec": {
      "display_name": "Python 3",
      "language": "python",
      "name": "python3"
    },
    "language_info": {
      "codemirror_mode": {
        "name": "ipython",
        "version": 3
      },
      "file_extension": ".py",
      "mimetype": "text/x-python",
      "name": "python",
      "nbconvert_exporter": "python",
      "pygments_lexer": "ipython3",
      "version": "3.6.10"
    }
  },
  "nbformat": 4,
  "nbformat_minor": 0
}
